{
  "metadata": {
    "language_info": {
      "codemirror_mode": {
        "name": "python",
        "version": 3
      },
      "file_extension": ".py",
      "mimetype": "text/x-python",
      "name": "python",
      "nbconvert_exporter": "python",
      "pygments_lexer": "ipython3",
      "version": "3.8"
    },
    "kernelspec": {
      "name": "python",
      "display_name": "Python (Pyodide)",
      "language": "python"
    }
  },
  "nbformat_minor": 4,
  "nbformat": 4,
  "cells": [
    {
      "cell_type": "code",
      "source": "#import required libraries\nimport pandas as pd\nimport numpy as np\nimport matplotlib.pyplot as plt",
      "metadata": {
        "trusted": true
      },
      "execution_count": 1,
      "outputs": []
    },
    {
      "cell_type": "code",
      "source": "# datasetName = effects-of-covid-19-on-trade-at-15-december-2021-provisional.csv\ndf=pd.read_csv('dataset.csv')",
      "metadata": {
        "trusted": true
      },
      "execution_count": 2,
      "outputs": []
    },
    {
      "cell_type": "code",
      "source": "print(df)",
      "metadata": {
        "trusted": true
      },
      "execution_count": 3,
      "outputs": [
        {
          "name": "stdout",
          "text": "                                              ood manufactured goods  All  $  \\\nImports   2021 16/01/2021 Saturday  All  Non-food manufactured goods  All  $   \n               17/01/2021 Sunday    All  Non-food manufactured goods  All  $   \n               18/01/2021 Monday    All  Non-food manufactured goods  All  $   \n               19/01/2021 Tuesday   All  Non-food manufactured goods  All  $   \n               20/01/2021 Wednesday All  Non-food manufactured goods  All  $   \n...                                                              ...  ... ..   \nReimports 2021 11/12/2021 Saturday  All                          All  All  $   \n               12/12/2021 Sunday    All                          All  All  $   \n               13/12/2021 Monday    All                          All  All  $   \n               14/12/2021 Tuesday   All                          All  All  $   \n               15/12/2021 Wednesday All                          All  All  $   \n\n                                         200000000  1829000000  \nImports   2021 16/01/2021 Saturday  All   26000000  1855000000  \n               17/01/2021 Sunday    All   30000000  1885000000  \n               18/01/2021 Monday    All  197000000  2082000000  \n               19/01/2021 Tuesday   All  195000000  2277000000  \n               20/01/2021 Wednesday All  155000000  2431000000  \n...                                            ...         ...  \nReimports 2021 11/12/2021 Saturday  All          0   165000000  \n               12/12/2021 Sunday    All          0   165000000  \n               13/12/2021 Monday    All    2000000   166000000  \n               14/12/2021 Tuesday   All    1000000   167000000  \n               15/12/2021 Wednesday All    1000000   168000000  \n\n[680 rows x 5 columns]\n",
          "output_type": "stream"
        }
      ]
    },
    {
      "cell_type": "code",
      "source": "df.describe()",
      "metadata": {
        "trusted": true
      },
      "execution_count": 4,
      "outputs": [
        {
          "execution_count": 4,
          "output_type": "execute_result",
          "data": {
            "text/plain": "          200000000    1829000000\ncount  6.800000e+02  6.800000e+02\nmean   7.425147e+07  1.244509e+10\nstd    9.800598e+07  1.616584e+10\nmin    0.000000e+00  0.000000e+00\n25%    0.000000e+00  8.075000e+07\n50%    2.000000e+06  1.640000e+08\n75%    1.762500e+08  2.369100e+10\nmax    3.960000e+08  5.217700e+10",
            "text/html": "<div>\n<style scoped>\n    .dataframe tbody tr th:only-of-type {\n        vertical-align: middle;\n    }\n\n    .dataframe tbody tr th {\n        vertical-align: top;\n    }\n\n    .dataframe thead th {\n        text-align: right;\n    }\n</style>\n<table border=\"1\" class=\"dataframe\">\n  <thead>\n    <tr style=\"text-align: right;\">\n      <th></th>\n      <th>200000000</th>\n      <th>1829000000</th>\n    </tr>\n  </thead>\n  <tbody>\n    <tr>\n      <th>count</th>\n      <td>6.800000e+02</td>\n      <td>6.800000e+02</td>\n    </tr>\n    <tr>\n      <th>mean</th>\n      <td>7.425147e+07</td>\n      <td>1.244509e+10</td>\n    </tr>\n    <tr>\n      <th>std</th>\n      <td>9.800598e+07</td>\n      <td>1.616584e+10</td>\n    </tr>\n    <tr>\n      <th>min</th>\n      <td>0.000000e+00</td>\n      <td>0.000000e+00</td>\n    </tr>\n    <tr>\n      <th>25%</th>\n      <td>0.000000e+00</td>\n      <td>8.075000e+07</td>\n    </tr>\n    <tr>\n      <th>50%</th>\n      <td>2.000000e+06</td>\n      <td>1.640000e+08</td>\n    </tr>\n    <tr>\n      <th>75%</th>\n      <td>1.762500e+08</td>\n      <td>2.369100e+10</td>\n    </tr>\n    <tr>\n      <th>max</th>\n      <td>3.960000e+08</td>\n      <td>5.217700e+10</td>\n    </tr>\n  </tbody>\n</table>\n</div>"
          },
          "metadata": {}
        }
      ]
    },
    {
      "cell_type": "code",
      "source": "\ndf.info()",
      "metadata": {
        "trusted": true
      },
      "execution_count": 5,
      "outputs": [
        {
          "name": "stdout",
          "text": "<class 'pandas.core.frame.DataFrame'>\nMultiIndex: 680 entries, ('Imports', 2021, '16/01/2021', 'Saturday', 'All') to ('Reimports', 2021, '15/12/2021', 'Wednesday', 'All')\nData columns (total 5 columns):\n #   Column                  Non-Null Count  Dtype \n---  ------                  --------------  ----- \n 0   ood manufactured goods  680 non-null    object\n 1   All                     680 non-null    object\n 2   $                       680 non-null    object\n 3   200000000               680 non-null    int64 \n 4   1829000000              680 non-null    int64 \ndtypes: int64(2), object(3)\nmemory usage: 28.5+ KB\n",
          "output_type": "stream"
        }
      ]
    },
    {
      "cell_type": "code",
      "source": "#displays first five rows of the dataset\ndf.head()",
      "metadata": {
        "trusted": true
      },
      "execution_count": 6,
      "outputs": [
        {
          "execution_count": 6,
          "output_type": "execute_result",
          "data": {
            "text/plain": "                                            ood manufactured goods  All  $  \\\nImports 2021 16/01/2021 Saturday  All  Non-food manufactured goods  All  $   \n             17/01/2021 Sunday    All  Non-food manufactured goods  All  $   \n             18/01/2021 Monday    All  Non-food manufactured goods  All  $   \n             19/01/2021 Tuesday   All  Non-food manufactured goods  All  $   \n             20/01/2021 Wednesday All  Non-food manufactured goods  All  $   \n\n                                       200000000  1829000000  \nImports 2021 16/01/2021 Saturday  All   26000000  1855000000  \n             17/01/2021 Sunday    All   30000000  1885000000  \n             18/01/2021 Monday    All  197000000  2082000000  \n             19/01/2021 Tuesday   All  195000000  2277000000  \n             20/01/2021 Wednesday All  155000000  2431000000  ",
            "text/html": "<div>\n<style scoped>\n    .dataframe tbody tr th:only-of-type {\n        vertical-align: middle;\n    }\n\n    .dataframe tbody tr th {\n        vertical-align: top;\n    }\n\n    .dataframe thead th {\n        text-align: right;\n    }\n</style>\n<table border=\"1\" class=\"dataframe\">\n  <thead>\n    <tr style=\"text-align: right;\">\n      <th></th>\n      <th></th>\n      <th></th>\n      <th></th>\n      <th></th>\n      <th>ood manufactured goods</th>\n      <th>All</th>\n      <th>$</th>\n      <th>200000000</th>\n      <th>1829000000</th>\n    </tr>\n  </thead>\n  <tbody>\n    <tr>\n      <th rowspan=\"5\" valign=\"top\">Imports</th>\n      <th rowspan=\"5\" valign=\"top\">2021</th>\n      <th>16/01/2021</th>\n      <th>Saturday</th>\n      <th>All</th>\n      <td>Non-food manufactured goods</td>\n      <td>All</td>\n      <td>$</td>\n      <td>26000000</td>\n      <td>1855000000</td>\n    </tr>\n    <tr>\n      <th>17/01/2021</th>\n      <th>Sunday</th>\n      <th>All</th>\n      <td>Non-food manufactured goods</td>\n      <td>All</td>\n      <td>$</td>\n      <td>30000000</td>\n      <td>1885000000</td>\n    </tr>\n    <tr>\n      <th>18/01/2021</th>\n      <th>Monday</th>\n      <th>All</th>\n      <td>Non-food manufactured goods</td>\n      <td>All</td>\n      <td>$</td>\n      <td>197000000</td>\n      <td>2082000000</td>\n    </tr>\n    <tr>\n      <th>19/01/2021</th>\n      <th>Tuesday</th>\n      <th>All</th>\n      <td>Non-food manufactured goods</td>\n      <td>All</td>\n      <td>$</td>\n      <td>195000000</td>\n      <td>2277000000</td>\n    </tr>\n    <tr>\n      <th>20/01/2021</th>\n      <th>Wednesday</th>\n      <th>All</th>\n      <td>Non-food manufactured goods</td>\n      <td>All</td>\n      <td>$</td>\n      <td>155000000</td>\n      <td>2431000000</td>\n    </tr>\n  </tbody>\n</table>\n</div>"
          },
          "metadata": {}
        }
      ]
    },
    {
      "cell_type": "code",
      "source": "#cleaning\ndf.isnull().sum()",
      "metadata": {
        "trusted": true
      },
      "execution_count": 7,
      "outputs": [
        {
          "execution_count": 7,
          "output_type": "execute_result",
          "data": {
            "text/plain": "ood manufactured goods    0\nAll                       0\n$                         0\n200000000                 0\n1829000000                0\ndtype: int64"
          },
          "metadata": {}
        }
      ]
    },
    {
      "cell_type": "code",
      "source": "#to replace missing values\ndata1=df.fillna(method=\"ffill\")",
      "metadata": {
        "trusted": true
      },
      "execution_count": 8,
      "outputs": []
    },
    {
      "cell_type": "code",
      "source": "#To check whether the valuies are replaced\ndata1.isnull().sum()",
      "metadata": {
        "trusted": true
      },
      "execution_count": 9,
      "outputs": [
        {
          "execution_count": 9,
          "output_type": "execute_result",
          "data": {
            "text/plain": "ood manufactured goods    0\nAll                       0\n$                         0\n200000000                 0\n1829000000                0\ndtype: int64"
          },
          "metadata": {}
        }
      ]
    },
    {
      "cell_type": "code",
      "source": "df.head()",
      "metadata": {
        "trusted": true
      },
      "execution_count": 10,
      "outputs": [
        {
          "execution_count": 10,
          "output_type": "execute_result",
          "data": {
            "text/plain": "                                            ood manufactured goods  All  $  \\\nImports 2021 16/01/2021 Saturday  All  Non-food manufactured goods  All  $   \n             17/01/2021 Sunday    All  Non-food manufactured goods  All  $   \n             18/01/2021 Monday    All  Non-food manufactured goods  All  $   \n             19/01/2021 Tuesday   All  Non-food manufactured goods  All  $   \n             20/01/2021 Wednesday All  Non-food manufactured goods  All  $   \n\n                                       200000000  1829000000  \nImports 2021 16/01/2021 Saturday  All   26000000  1855000000  \n             17/01/2021 Sunday    All   30000000  1885000000  \n             18/01/2021 Monday    All  197000000  2082000000  \n             19/01/2021 Tuesday   All  195000000  2277000000  \n             20/01/2021 Wednesday All  155000000  2431000000  ",
            "text/html": "<div>\n<style scoped>\n    .dataframe tbody tr th:only-of-type {\n        vertical-align: middle;\n    }\n\n    .dataframe tbody tr th {\n        vertical-align: top;\n    }\n\n    .dataframe thead th {\n        text-align: right;\n    }\n</style>\n<table border=\"1\" class=\"dataframe\">\n  <thead>\n    <tr style=\"text-align: right;\">\n      <th></th>\n      <th></th>\n      <th></th>\n      <th></th>\n      <th></th>\n      <th>ood manufactured goods</th>\n      <th>All</th>\n      <th>$</th>\n      <th>200000000</th>\n      <th>1829000000</th>\n    </tr>\n  </thead>\n  <tbody>\n    <tr>\n      <th rowspan=\"5\" valign=\"top\">Imports</th>\n      <th rowspan=\"5\" valign=\"top\">2021</th>\n      <th>16/01/2021</th>\n      <th>Saturday</th>\n      <th>All</th>\n      <td>Non-food manufactured goods</td>\n      <td>All</td>\n      <td>$</td>\n      <td>26000000</td>\n      <td>1855000000</td>\n    </tr>\n    <tr>\n      <th>17/01/2021</th>\n      <th>Sunday</th>\n      <th>All</th>\n      <td>Non-food manufactured goods</td>\n      <td>All</td>\n      <td>$</td>\n      <td>30000000</td>\n      <td>1885000000</td>\n    </tr>\n    <tr>\n      <th>18/01/2021</th>\n      <th>Monday</th>\n      <th>All</th>\n      <td>Non-food manufactured goods</td>\n      <td>All</td>\n      <td>$</td>\n      <td>197000000</td>\n      <td>2082000000</td>\n    </tr>\n    <tr>\n      <th>19/01/2021</th>\n      <th>Tuesday</th>\n      <th>All</th>\n      <td>Non-food manufactured goods</td>\n      <td>All</td>\n      <td>$</td>\n      <td>195000000</td>\n      <td>2277000000</td>\n    </tr>\n    <tr>\n      <th>20/01/2021</th>\n      <th>Wednesday</th>\n      <th>All</th>\n      <td>Non-food manufactured goods</td>\n      <td>All</td>\n      <td>$</td>\n      <td>155000000</td>\n      <td>2431000000</td>\n    </tr>\n  </tbody>\n</table>\n</div>"
          },
          "metadata": {}
        }
      ]
    },
    {
      "cell_type": "code",
      "source": "#reduction\n\ncols=['200000000','1829000000']\ndf = df.drop(cols, axis=1)",
      "metadata": {
        "trusted": true
      },
      "execution_count": 11,
      "outputs": []
    },
    {
      "cell_type": "code",
      "source": "print(df)",
      "metadata": {
        "trusted": true
      },
      "execution_count": 12,
      "outputs": [
        {
          "name": "stdout",
          "text": "                                              ood manufactured goods  All  $\nImports   2021 16/01/2021 Saturday  All  Non-food manufactured goods  All  $\n               17/01/2021 Sunday    All  Non-food manufactured goods  All  $\n               18/01/2021 Monday    All  Non-food manufactured goods  All  $\n               19/01/2021 Tuesday   All  Non-food manufactured goods  All  $\n               20/01/2021 Wednesday All  Non-food manufactured goods  All  $\n...                                                              ...  ... ..\nReimports 2021 11/12/2021 Saturday  All                          All  All  $\n               12/12/2021 Sunday    All                          All  All  $\n               13/12/2021 Monday    All                          All  All  $\n               14/12/2021 Tuesday   All                          All  All  $\n               15/12/2021 Wednesday All                          All  All  $\n\n[680 rows x 3 columns]\n",
          "output_type": "stream"
        }
      ]
    },
    {
      "cell_type": "code",
      "source": "#Transformation\n\ndata1.head()",
      "metadata": {
        "trusted": true
      },
      "execution_count": 13,
      "outputs": [
        {
          "execution_count": 13,
          "output_type": "execute_result",
          "data": {
            "text/plain": "                                            ood manufactured goods  All  $  \\\nImports 2021 16/01/2021 Saturday  All  Non-food manufactured goods  All  $   \n             17/01/2021 Sunday    All  Non-food manufactured goods  All  $   \n             18/01/2021 Monday    All  Non-food manufactured goods  All  $   \n             19/01/2021 Tuesday   All  Non-food manufactured goods  All  $   \n             20/01/2021 Wednesday All  Non-food manufactured goods  All  $   \n\n                                       200000000  1829000000  \nImports 2021 16/01/2021 Saturday  All   26000000  1855000000  \n             17/01/2021 Sunday    All   30000000  1885000000  \n             18/01/2021 Monday    All  197000000  2082000000  \n             19/01/2021 Tuesday   All  195000000  2277000000  \n             20/01/2021 Wednesday All  155000000  2431000000  ",
            "text/html": "<div>\n<style scoped>\n    .dataframe tbody tr th:only-of-type {\n        vertical-align: middle;\n    }\n\n    .dataframe tbody tr th {\n        vertical-align: top;\n    }\n\n    .dataframe thead th {\n        text-align: right;\n    }\n</style>\n<table border=\"1\" class=\"dataframe\">\n  <thead>\n    <tr style=\"text-align: right;\">\n      <th></th>\n      <th></th>\n      <th></th>\n      <th></th>\n      <th></th>\n      <th>ood manufactured goods</th>\n      <th>All</th>\n      <th>$</th>\n      <th>200000000</th>\n      <th>1829000000</th>\n    </tr>\n  </thead>\n  <tbody>\n    <tr>\n      <th rowspan=\"5\" valign=\"top\">Imports</th>\n      <th rowspan=\"5\" valign=\"top\">2021</th>\n      <th>16/01/2021</th>\n      <th>Saturday</th>\n      <th>All</th>\n      <td>Non-food manufactured goods</td>\n      <td>All</td>\n      <td>$</td>\n      <td>26000000</td>\n      <td>1855000000</td>\n    </tr>\n    <tr>\n      <th>17/01/2021</th>\n      <th>Sunday</th>\n      <th>All</th>\n      <td>Non-food manufactured goods</td>\n      <td>All</td>\n      <td>$</td>\n      <td>30000000</td>\n      <td>1885000000</td>\n    </tr>\n    <tr>\n      <th>18/01/2021</th>\n      <th>Monday</th>\n      <th>All</th>\n      <td>Non-food manufactured goods</td>\n      <td>All</td>\n      <td>$</td>\n      <td>197000000</td>\n      <td>2082000000</td>\n    </tr>\n    <tr>\n      <th>19/01/2021</th>\n      <th>Tuesday</th>\n      <th>All</th>\n      <td>Non-food manufactured goods</td>\n      <td>All</td>\n      <td>$</td>\n      <td>195000000</td>\n      <td>2277000000</td>\n    </tr>\n    <tr>\n      <th>20/01/2021</th>\n      <th>Wednesday</th>\n      <th>All</th>\n      <td>Non-food manufactured goods</td>\n      <td>All</td>\n      <td>$</td>\n      <td>155000000</td>\n      <td>2431000000</td>\n    </tr>\n  </tbody>\n</table>\n</div>"
          },
          "metadata": {}
        }
      ]
    },
    {
      "cell_type": "code",
      "source": "dummy=pd.get_dummies(data1['All'])",
      "metadata": {
        "trusted": true
      },
      "execution_count": 14,
      "outputs": []
    },
    {
      "cell_type": "code",
      "source": "dummy",
      "metadata": {
        "trusted": true
      },
      "execution_count": 15,
      "outputs": [
        {
          "execution_count": 15,
          "output_type": "execute_result",
          "data": {
            "text/plain": "                                         All\nImports   2021 16/01/2021 Saturday  All    1\n               17/01/2021 Sunday    All    1\n               18/01/2021 Monday    All    1\n               19/01/2021 Tuesday   All    1\n               20/01/2021 Wednesday All    1\n...                                      ...\nReimports 2021 11/12/2021 Saturday  All    1\n               12/12/2021 Sunday    All    1\n               13/12/2021 Monday    All    1\n               14/12/2021 Tuesday   All    1\n               15/12/2021 Wednesday All    1\n\n[680 rows x 1 columns]",
            "text/html": "<div>\n<style scoped>\n    .dataframe tbody tr th:only-of-type {\n        vertical-align: middle;\n    }\n\n    .dataframe tbody tr th {\n        vertical-align: top;\n    }\n\n    .dataframe thead th {\n        text-align: right;\n    }\n</style>\n<table border=\"1\" class=\"dataframe\">\n  <thead>\n    <tr style=\"text-align: right;\">\n      <th></th>\n      <th></th>\n      <th></th>\n      <th></th>\n      <th></th>\n      <th>All</th>\n    </tr>\n  </thead>\n  <tbody>\n    <tr>\n      <th rowspan=\"5\" valign=\"top\">Imports</th>\n      <th rowspan=\"5\" valign=\"top\">2021</th>\n      <th>16/01/2021</th>\n      <th>Saturday</th>\n      <th>All</th>\n      <td>1</td>\n    </tr>\n    <tr>\n      <th>17/01/2021</th>\n      <th>Sunday</th>\n      <th>All</th>\n      <td>1</td>\n    </tr>\n    <tr>\n      <th>18/01/2021</th>\n      <th>Monday</th>\n      <th>All</th>\n      <td>1</td>\n    </tr>\n    <tr>\n      <th>19/01/2021</th>\n      <th>Tuesday</th>\n      <th>All</th>\n      <td>1</td>\n    </tr>\n    <tr>\n      <th>20/01/2021</th>\n      <th>Wednesday</th>\n      <th>All</th>\n      <td>1</td>\n    </tr>\n    <tr>\n      <th>...</th>\n      <th>...</th>\n      <th>...</th>\n      <th>...</th>\n      <th>...</th>\n      <td>...</td>\n    </tr>\n    <tr>\n      <th rowspan=\"5\" valign=\"top\">Reimports</th>\n      <th rowspan=\"5\" valign=\"top\">2021</th>\n      <th>11/12/2021</th>\n      <th>Saturday</th>\n      <th>All</th>\n      <td>1</td>\n    </tr>\n    <tr>\n      <th>12/12/2021</th>\n      <th>Sunday</th>\n      <th>All</th>\n      <td>1</td>\n    </tr>\n    <tr>\n      <th>13/12/2021</th>\n      <th>Monday</th>\n      <th>All</th>\n      <td>1</td>\n    </tr>\n    <tr>\n      <th>14/12/2021</th>\n      <th>Tuesday</th>\n      <th>All</th>\n      <td>1</td>\n    </tr>\n    <tr>\n      <th>15/12/2021</th>\n      <th>Wednesday</th>\n      <th>All</th>\n      <td>1</td>\n    </tr>\n  </tbody>\n</table>\n<p>680 rows × 1 columns</p>\n</div>"
          },
          "metadata": {}
        }
      ]
    },
    {
      "cell_type": "code",
      "source": "data2=pd.concat((data1,dummy),axis=1)",
      "metadata": {
        "trusted": true
      },
      "execution_count": 16,
      "outputs": []
    },
    {
      "cell_type": "code",
      "source": "data2=data2.drop(['All'],axis=1)",
      "metadata": {
        "trusted": true
      },
      "execution_count": 17,
      "outputs": []
    },
    {
      "cell_type": "code",
      "source": "data2.head()",
      "metadata": {
        "trusted": true
      },
      "execution_count": 18,
      "outputs": [
        {
          "execution_count": 18,
          "output_type": "execute_result",
          "data": {
            "text/plain": "                                            ood manufactured goods  $  \\\nImports 2021 16/01/2021 Saturday  All  Non-food manufactured goods  $   \n             17/01/2021 Sunday    All  Non-food manufactured goods  $   \n             18/01/2021 Monday    All  Non-food manufactured goods  $   \n             19/01/2021 Tuesday   All  Non-food manufactured goods  $   \n             20/01/2021 Wednesday All  Non-food manufactured goods  $   \n\n                                       200000000  1829000000  \nImports 2021 16/01/2021 Saturday  All   26000000  1855000000  \n             17/01/2021 Sunday    All   30000000  1885000000  \n             18/01/2021 Monday    All  197000000  2082000000  \n             19/01/2021 Tuesday   All  195000000  2277000000  \n             20/01/2021 Wednesday All  155000000  2431000000  ",
            "text/html": "<div>\n<style scoped>\n    .dataframe tbody tr th:only-of-type {\n        vertical-align: middle;\n    }\n\n    .dataframe tbody tr th {\n        vertical-align: top;\n    }\n\n    .dataframe thead th {\n        text-align: right;\n    }\n</style>\n<table border=\"1\" class=\"dataframe\">\n  <thead>\n    <tr style=\"text-align: right;\">\n      <th></th>\n      <th></th>\n      <th></th>\n      <th></th>\n      <th></th>\n      <th>ood manufactured goods</th>\n      <th>$</th>\n      <th>200000000</th>\n      <th>1829000000</th>\n    </tr>\n  </thead>\n  <tbody>\n    <tr>\n      <th rowspan=\"5\" valign=\"top\">Imports</th>\n      <th rowspan=\"5\" valign=\"top\">2021</th>\n      <th>16/01/2021</th>\n      <th>Saturday</th>\n      <th>All</th>\n      <td>Non-food manufactured goods</td>\n      <td>$</td>\n      <td>26000000</td>\n      <td>1855000000</td>\n    </tr>\n    <tr>\n      <th>17/01/2021</th>\n      <th>Sunday</th>\n      <th>All</th>\n      <td>Non-food manufactured goods</td>\n      <td>$</td>\n      <td>30000000</td>\n      <td>1885000000</td>\n    </tr>\n    <tr>\n      <th>18/01/2021</th>\n      <th>Monday</th>\n      <th>All</th>\n      <td>Non-food manufactured goods</td>\n      <td>$</td>\n      <td>197000000</td>\n      <td>2082000000</td>\n    </tr>\n    <tr>\n      <th>19/01/2021</th>\n      <th>Tuesday</th>\n      <th>All</th>\n      <td>Non-food manufactured goods</td>\n      <td>$</td>\n      <td>195000000</td>\n      <td>2277000000</td>\n    </tr>\n    <tr>\n      <th>20/01/2021</th>\n      <th>Wednesday</th>\n      <th>All</th>\n      <td>Non-food manufactured goods</td>\n      <td>$</td>\n      <td>155000000</td>\n      <td>2431000000</td>\n    </tr>\n  </tbody>\n</table>\n</div>"
          },
          "metadata": {}
        }
      ]
    },
    {
      "cell_type": "code",
      "source": "# To plot histogram\ndf.hist()",
      "metadata": {
        "trusted": true
      },
      "execution_count": 19,
      "outputs": [
        {
          "ename": "<class 'ValueError'>",
          "evalue": "hist method requires numerical or datetime columns, nothing to plot.",
          "traceback": [
            "\u001b[0;31m---------------------------------------------------------------------------\u001b[0m",
            "\u001b[0;31mValueError\u001b[0m                                Traceback (most recent call last)",
            "Cell \u001b[0;32mIn [19], line 2\u001b[0m\n\u001b[1;32m      1\u001b[0m \u001b[38;5;66;03m# To plot histogram\u001b[39;00m\n\u001b[0;32m----> 2\u001b[0m \u001b[43mdf\u001b[49m\u001b[38;5;241;43m.\u001b[39;49m\u001b[43mhist\u001b[49m\u001b[43m(\u001b[49m\u001b[43m)\u001b[49m\n",
            "File \u001b[0;32m/lib/python3.10/site-packages/pandas/plotting/_core.py:226\u001b[0m, in \u001b[0;36mhist_frame\u001b[0;34m(data, column, by, grid, xlabelsize, xrot, ylabelsize, yrot, ax, sharex, sharey, figsize, layout, bins, backend, legend, **kwargs)\u001b[0m\n\u001b[1;32m    135\u001b[0m \u001b[38;5;124;03m\"\"\"\u001b[39;00m\n\u001b[1;32m    136\u001b[0m \u001b[38;5;124;03mMake a histogram of the DataFrame's columns.\u001b[39;00m\n\u001b[1;32m    137\u001b[0m \n\u001b[0;32m   (...)\u001b[0m\n\u001b[1;32m    223\u001b[0m \u001b[38;5;124;03m    >>> hist = df.hist(bins=3)\u001b[39;00m\n\u001b[1;32m    224\u001b[0m \u001b[38;5;124;03m\"\"\"\u001b[39;00m\n\u001b[1;32m    225\u001b[0m plot_backend \u001b[38;5;241m=\u001b[39m _get_plot_backend(backend)\n\u001b[0;32m--> 226\u001b[0m \u001b[38;5;28;01mreturn\u001b[39;00m plot_backend\u001b[38;5;241m.\u001b[39mhist_frame(\n\u001b[1;32m    227\u001b[0m     data,\n\u001b[1;32m    228\u001b[0m     column\u001b[38;5;241m=\u001b[39mcolumn,\n\u001b[1;32m    229\u001b[0m     by\u001b[38;5;241m=\u001b[39mby,\n\u001b[1;32m    230\u001b[0m     grid\u001b[38;5;241m=\u001b[39mgrid,\n\u001b[1;32m    231\u001b[0m     xlabelsize\u001b[38;5;241m=\u001b[39mxlabelsize,\n\u001b[1;32m    232\u001b[0m     xrot\u001b[38;5;241m=\u001b[39mxrot,\n\u001b[1;32m    233\u001b[0m     ylabelsize\u001b[38;5;241m=\u001b[39mylabelsize,\n\u001b[1;32m    234\u001b[0m     yrot\u001b[38;5;241m=\u001b[39myrot,\n\u001b[1;32m    235\u001b[0m     ax\u001b[38;5;241m=\u001b[39max,\n\u001b[1;32m    236\u001b[0m     sharex\u001b[38;5;241m=\u001b[39msharex,\n\u001b[1;32m    237\u001b[0m     sharey\u001b[38;5;241m=\u001b[39msharey,\n\u001b[1;32m    238\u001b[0m     figsize\u001b[38;5;241m=\u001b[39mfigsize,\n\u001b[1;32m    239\u001b[0m     layout\u001b[38;5;241m=\u001b[39mlayout,\n\u001b[1;32m    240\u001b[0m     legend\u001b[38;5;241m=\u001b[39mlegend,\n\u001b[1;32m    241\u001b[0m     bins\u001b[38;5;241m=\u001b[39mbins,\n\u001b[1;32m    242\u001b[0m     \u001b[38;5;241m*\u001b[39m\u001b[38;5;241m*\u001b[39mkwargs,\n\u001b[1;32m    243\u001b[0m )\n",
            "File \u001b[0;32m/lib/python3.10/site-packages/pandas/plotting/_matplotlib/hist.py:480\u001b[0m, in \u001b[0;36mhist_frame\u001b[0;34m(data, column, by, grid, xlabelsize, xrot, ylabelsize, yrot, ax, sharex, sharey, figsize, layout, bins, legend, **kwds)\u001b[0m\n\u001b[1;32m    477\u001b[0m naxes \u001b[38;5;241m=\u001b[39m \u001b[38;5;28mlen\u001b[39m(data\u001b[38;5;241m.\u001b[39mcolumns)\n\u001b[1;32m    479\u001b[0m \u001b[38;5;28;01mif\u001b[39;00m naxes \u001b[38;5;241m==\u001b[39m \u001b[38;5;241m0\u001b[39m:\n\u001b[0;32m--> 480\u001b[0m     \u001b[38;5;28;01mraise\u001b[39;00m \u001b[38;5;167;01mValueError\u001b[39;00m(\n\u001b[1;32m    481\u001b[0m         \u001b[38;5;124m\"\u001b[39m\u001b[38;5;124mhist method requires numerical or datetime columns, nothing to plot.\u001b[39m\u001b[38;5;124m\"\u001b[39m\n\u001b[1;32m    482\u001b[0m     )\n\u001b[1;32m    484\u001b[0m fig, axes \u001b[38;5;241m=\u001b[39m create_subplots(\n\u001b[1;32m    485\u001b[0m     naxes\u001b[38;5;241m=\u001b[39mnaxes,\n\u001b[1;32m    486\u001b[0m     ax\u001b[38;5;241m=\u001b[39max,\n\u001b[0;32m   (...)\u001b[0m\n\u001b[1;32m    491\u001b[0m     layout\u001b[38;5;241m=\u001b[39mlayout,\n\u001b[1;32m    492\u001b[0m )\n\u001b[1;32m    493\u001b[0m _axes \u001b[38;5;241m=\u001b[39m flatten_axes(axes)\n",
            "\u001b[0;31mValueError\u001b[0m: hist method requires numerical or datetime columns, nothing to plot."
          ],
          "output_type": "error"
        }
      ]
    },
    {
      "cell_type": "code",
      "source": "",
      "metadata": {},
      "execution_count": null,
      "outputs": []
    }
  ]
}